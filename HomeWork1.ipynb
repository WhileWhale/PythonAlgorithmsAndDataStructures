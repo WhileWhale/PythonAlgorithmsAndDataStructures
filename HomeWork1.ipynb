{
 "cells": [
  {
   "cell_type": "markdown",
   "metadata": {},
   "source": [
    "Создайте класс Point (точка), у которого имеются 2 атрибута x и y (координаты) и методы __init__() и __str__(), и класс Rect (прямоугольник), у которого есть: • два атрибута (верхний левый угол и правый нижний угол прямоугольника). Значениями атрибутов являются объекты класса Point; • методы __init__() и __str__(); метод sides(), возвращающий длины сторон прямоугольника; метод perim(), вычисляющий периметр прямоугольника. Продемонстрируйте работу с классами, создав необходимые объекты и вызвав все их методы. "
   ]
  },
  {
   "cell_type": "code",
   "execution_count": 5,
   "metadata": {},
   "outputs": [
    {
     "name": "stdout",
     "output_type": "stream",
     "text": [
      "Ширина и высота: (3, 4)\n",
      "Периметр: 14\n"
     ]
    }
   ],
   "source": [
    "class Point:\n",
    "    def __init__(self, x, y):\n",
    "        self.x = x\n",
    "        self.y = y\n",
    "\n",
    "    def __str__(self):\n",
    "        return f'Point({self.x}, {self.y})'\n",
    "\n",
    "class Rect:\n",
    "    def __init__(self, top_left, bottom_right):\n",
    "        self.top_left = top_left\n",
    "        self.bottom_right = bottom_right\n",
    "\n",
    "    def __str__(self):\n",
    "        return f'Rect({self.top_left}, {self.bottom_right})'\n",
    "\n",
    "    def sides(self):\n",
    "        return (\n",
    "            abs(self.top_left.x - self.bottom_right.x),\n",
    "            abs(self.top_left.y - self.bottom_right.y)\n",
    "        )\n",
    "\n",
    "    def perim(self):\n",
    "        return sum(self.sides())*2\n",
    "\n",
    "# Левый верхний угол\n",
    "p1 = Point(3, 4)\n",
    "# Правый нижний угол\n",
    "p2 = Point(6, 8)\n",
    "\n",
    "# Создание прямоугольника из двух точек\n",
    "r = Rect(p1, p2)\n",
    "\n",
    "print(f\"Ширина и высота: {r.sides()}\") \n",
    "\n",
    "print(f\"Периметр: {r.perim()}\")\n"
   ]
  },
  {
   "cell_type": "markdown",
   "metadata": {},
   "source": [
    "Создайте класс Ведомость, имеющий атрибут класса: список_дисциплин (значением является список с названиями дисциплин); дисциплина (при задании значения проверять наличие дисциплины в атрибуте список_дисциплин), группа; методы: put – добавляет в ведомость информацию об оценке студента (фамилия, оценка – параметры метода). Для хранения данных внутри класса используйте словарь, в котором ключом является фамилия студента. Возможные оценки – «отлично», «хорошо», «удовл.», «неудовл.», «н/я»; get – возвращает оценку, полученную студентом (фамилия студента – параметр метода); change – изменяет оценку, полученную студентом (фамилия студента и новая оценка – параметры метода); del – удаляет информацию о студенте из ведомости (фамилия студента – параметр метода); result – возвращает кортеж из 5 чисел (количество каждого вида оценок в ведомости); __init__ – конструктор; __str__ – возвращает строку, содержащую заголовки (название экзамена, группа) и результаты экзамена в виде таблицы; count – возвращает количество студентов в ведомости; names – возвращает список фамилий, имеющихся в ведомости. Продемонстрируйте работу с классами, создав необходимые объекты и вызвав все их методы. "
   ]
  },
  {
   "cell_type": "code",
   "execution_count": 22,
   "metadata": {},
   "outputs": [
    {
     "name": "stdout",
     "output_type": "stream",
     "text": [
      "Изначальный отчет:\n",
      "Название экзамена: Математика\n",
      "Группа: ПКС-219\n",
      "|  Фамилия |  Оценка |\n",
      "|----------|---------|\n",
      "| Петров | удовлетв. |\n",
      "| Васечкин | хорошо |\n",
      "| Смирнов | отлично |\n",
      "\n",
      "Оценка Смирнова: отлично\n",
      "\n",
      "Название экзамена: Математика\n",
      "Группа: ПКС-219\n",
      "|  Фамилия |  Оценка |\n",
      "|----------|---------|\n",
      "| Петров | н/я |\n",
      "| Смирнов | отлично |\n",
      "\n",
      "Кол-во студентов: 2\n",
      "Студенты: ['Петров', 'Смирнов']\n"
     ]
    }
   ],
   "source": [
    "\n",
    "class StudentMarks:\n",
    "\n",
    "    DISCIPLINE_ARRAY = [\"Математика\", \"Информатика\", \"Астрономия\", \"География\"]\n",
    "    MARKS = ['отлично', 'хорошо', 'удовлетв.', 'неудовл.', 'н/я']\n",
    "\n",
    "    def __init__(self, discipline, group):\n",
    "        if discipline in StudentMarks.DISCIPLINE_ARRAY:\n",
    "            self.discipline = discipline\n",
    "        else:\n",
    "            return Exception('Дисциплина должна быть из списка')\n",
    "\n",
    "        self.group = group\n",
    "        self.marks = {\"Петров\" : \"удовлетв.\", \"Васечкин\" : \"хорошо\", \"Смирнов\" : \"отлично\"}\n",
    "        \n",
    "    def __str__(self):\n",
    "        table = f'|  Фамилия |  Оценка |\\n|----------|---------|\\n'\n",
    "        for discipline, mark in self.marks.items():\n",
    "            table += f'| {discipline} | {mark} |\\n'\n",
    "        return f'Название экзамена: {self.discipline}\\nГруппа: {self.group}\\n{table}'\n",
    "\n",
    "    def put(self, surname, mark):\n",
    "        if mark in StudentMarks.MARKS:\n",
    "            self.marks[surname] = mark\n",
    "        else:\n",
    "            print('Недопустимое значение оценки')\n",
    "\n",
    "    def get(self, surname):\n",
    "        return self.marks[surname]\n",
    "    \n",
    "    def change(self, surname, mark): \n",
    "        if mark in StudentMarks.MARKS:\n",
    "            self.marks[surname] = mark\n",
    "        else:\n",
    "            print('Недопустимое значение оценки')\n",
    "\n",
    "    def del_student(self, surname):\n",
    "        if surname in self.marks:\n",
    "            del self.marks[surname]\n",
    "\n",
    "    def count(self):\n",
    "        return len(self.marks)\n",
    "\n",
    "    def names(self):\n",
    "        return list(self.marks.keys())\n",
    "\n",
    "report = StudentMarks(\"Математика\", \"ПКС-219\")\n",
    "\n",
    "print(\"Изначальный отчет:\")\n",
    "print(report)\n",
    "\n",
    "report.put(\"Петров\", \"н/я\")\n",
    "\n",
    "print(f\"Оценка Смирнова: {report.get('Смирнов')}\\n\")\n",
    "\n",
    "report.del_student(\"Васечкин\")\n",
    "print(report)\n",
    "print(f\"Кол-во студентов: {report.count()}\")\n",
    "print(f\"Студенты: {report.names()}\")\n"
   ]
  },
  {
   "cell_type": "markdown",
   "metadata": {},
   "source": [
    "Используя класс People в качестве базового, создайте класс Сотрудник (Worker), имеющий атрибуты: должность (post); зарплата (salary) и методы: __init__ – конструктор; __str__ – для вывода строковой информации. Создать два метода для класса Сотрудник и один метод для класса People. Продемонстрируйте работу с классами, создав необходимые объекты и вызвав все их методы.\n",
    "Используя класс Сотрудник в качестве базового создайте класс Преподаватель (Teacher), имеющий: атрибут дисциплины (disciplines), в котором хранятся названия дисциплин, которые ведет преподаватель; методы __init__ и __str__;методы добавить_дисциплину (add_dis) и удалить_дисциплину (delete_dis), которые позволяют изменять список дисциплин. Продемонстрируйте работу с классами, создав необходимые объекты и вызвав все их методы. "
   ]
  },
  {
   "cell_type": "code",
   "execution_count": 26,
   "metadata": {},
   "outputs": [
    {
     "name": "stdout",
     "output_type": "stream",
     "text": [
      "Имя: Иван, Возраст: 25, Должность: Учитель младших классов, Зарплата: 45000, Дисциплины: ['Математика', 'Русский язык']\n",
      "Имя: Ivan, Возраст: 25, Должность: Учитель английского языка, Зарплата: 70000, Дисциплины: ['Английский язык']\n"
     ]
    }
   ],
   "source": [
    "class People:\n",
    "    def __init__(self, name, age):\n",
    "        self.name = name\n",
    "        self.age = age\n",
    "\n",
    "    def __str__(self):\n",
    "        return f'Имя: {self.name}, Возраст: {self.age}'\n",
    "\n",
    "    def change_name(self, new_name):\n",
    "        self.name = new_name\n",
    "\n",
    "class Worker(People):\n",
    "    def __init__(self, name, age, post, salary):\n",
    "        super().__init__(name, age)\n",
    "        self.post = post\n",
    "        self.salary = salary\n",
    "\n",
    "    def __str__(self):\n",
    "        return super().__str__() + f', Должность: {self.post}, Зарплата: {self.salary}'\n",
    "\n",
    "    def change_salary(self, new_salary):\n",
    "        self.salary = new_salary\n",
    "\n",
    "    def change_post(self, new_post):\n",
    "        self.post = new_post\n",
    "\n",
    "class Teacher(Worker):\n",
    "    def __init__(self, name, age, post, salary):\n",
    "        super().__init__(name, age, post, salary)\n",
    "        self.disciplines = []\n",
    "\n",
    "    def __str__(self):\n",
    "        return super().__str__() + f', Дисциплины: {self.disciplines}'\n",
    "\n",
    "    def add_discipline(self, discipline):\n",
    "        self.disciplines.append(discipline)\n",
    "\n",
    "    def delete_discipline(self, discipline):\n",
    "        if discipline in self.disciplines:\n",
    "            self.disciplines.remove(discipline)\n",
    "\n",
    "teacher = Teacher(\"Иван\", 25, \"Учитель младших классов\", 45000)\n",
    "\n",
    "teacher.add_discipline(\"Математика\")\n",
    "teacher.add_discipline(\"Русский язык\")\n",
    "print(teacher)\n",
    "\n",
    "teacher.change_name(\"Ivan\")\n",
    "teacher.change_post(\"Учитель английского языка\")\n",
    "teacher.change_salary(70000)\n",
    "teacher.delete_discipline(\"Математика\")\n",
    "teacher.delete_discipline(\"Русский язык\")\n",
    "teacher.add_discipline(\"Английский язык\")\n",
    "\n",
    "print(teacher)"
   ]
  },
  {
   "cell_type": "markdown",
   "metadata": {},
   "source": [
    "Создайте класс Студент, имеющий: атрибут Имя – строка, содержащая фамилию; метод __init__. При создании объекта указывается имя, список Дисциплины пустой; атрибут Дисциплины – словарь сданных дисциплин. Ключом является название дисциплины, значением – оценка. Метод put добавляет новую дисциплину в атрибут Дисциплины. Параметрами метода являются название дисциплины и оценка; метод Сдано возвращает список названий сданных дисциплин. Создайте экземпляр класса, продемонстрируйте работу с атрибутами, методами и свойствами. "
   ]
  },
  {
   "cell_type": "code",
   "execution_count": 27,
   "metadata": {},
   "outputs": [
    {
     "name": "stdout",
     "output_type": "stream",
     "text": [
      "['Математика', 'Русский язык', 'Литература', 'История', 'География']\n"
     ]
    }
   ],
   "source": [
    "class Student:\n",
    "    def __init__(self, name):\n",
    "        self.name = name\n",
    "        self.disciplines = {}\n",
    "\n",
    "    def put(self, discipline, grade):\n",
    "        if grade in (1, 2, 3, 4, 5):\n",
    "            self.disciplines[discipline] = grade\n",
    "        else:\n",
    "            print('Недопустимое значение оценки')\n",
    "\n",
    "    def get_passed(self):\n",
    "        return [discipline for discipline, grade in self.disciplines.items() if grade >= 3]\n",
    "\n",
    "student = Student(\"Иван\")\n",
    "student.put(\"Математика\", 5)\n",
    "student.put(\"Русский язык\", 5)\n",
    "student.put(\"Литература\", 5)\n",
    "student.put(\"История\", 4)\n",
    "student.put(\"География\", 5)\n",
    "student.put(\"ОБЖ\", 2)\n",
    "\n",
    "print(student.get_passed())"
   ]
  }
 ],
 "metadata": {
  "kernelspec": {
   "display_name": "Python 3",
   "language": "python",
   "name": "python3"
  },
  "language_info": {
   "codemirror_mode": {
    "name": "ipython",
    "version": 3
   },
   "file_extension": ".py",
   "mimetype": "text/x-python",
   "name": "python",
   "nbconvert_exporter": "python",
   "pygments_lexer": "ipython3",
   "version": "3.10.11"
  }
 },
 "nbformat": 4,
 "nbformat_minor": 2
}
