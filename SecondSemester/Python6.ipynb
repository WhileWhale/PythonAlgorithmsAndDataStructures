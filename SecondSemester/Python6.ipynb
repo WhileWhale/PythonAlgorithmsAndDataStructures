{
  "cells": [
    {
      "cell_type": "markdown",
      "metadata": {
        "id": "EVbqAmZF1ckK"
      },
      "source": [
        "# Самостоятельная работа (Файлы. Исключения)"
      ]
    },
    {
      "cell_type": "markdown",
      "metadata": {
        "id": "iQhhkJb8yk0e"
      },
      "source": [
        "## Задача 1"
      ]
    },
    {
      "cell_type": "markdown",
      "metadata": {
        "id": "4CntGw70y0cl"
      },
      "source": [
        "Напишите функцию, которая параметром будет принимать путь к папке, а возвращать размер этой папки."
      ]
    },
    {
      "cell_type": "code",
      "execution_count": 1,
      "metadata": {
        "id": "xDr0YsR_0kNP"
      },
      "outputs": [
        {
          "name": "stdout",
          "output_type": "stream",
          "text": [
            "Размер папки 'C:\\Windows\\Boot' - 69969124 байт\n"
          ]
        }
      ],
      "source": [
        "# ваш код в этой ячейке\n",
        "from os import path, walk\n",
        "\n",
        "def CalculateSize(folderPath):\n",
        "    size = 0\n",
        "    for root, dirs, files in walk(folderPath):\n",
        "        for file in files:\n",
        "            filePath = path.join(root, file)\n",
        "            size += path.getsize(filePath)\n",
        "    return size\n",
        "\n",
        "folderPath = \"C:\\Windows\\Boot\"\n",
        "size = CalculateSize(folderPath)\n",
        "print(f\"Размер папки '{folderPath}' - {size} байт\")"
      ]
    },
    {
      "cell_type": "markdown",
      "metadata": {
        "id": "o9mJvlCwDu95"
      },
      "source": [
        "## Задача 2"
      ]
    },
    {
      "cell_type": "markdown",
      "metadata": {
        "id": "o6pubICoDu97"
      },
      "source": [
        "Дан текстовый файл. В нем написан текст, разбитый на предложения. Перемешайте слова в каждом предложении текста и запишите полученный текст в новый файл."
      ]
    },
    {
      "cell_type": "code",
      "execution_count": 47,
      "metadata": {
        "id": "sTia6dWRDu98"
      },
      "outputs": [],
      "source": [
        "# ваш код в этой ячейке\n",
        "from random import shuffle\n",
        "\n",
        "with open(\"randomSentences.txt\", \"r\", encoding='utf-8') as file:\n",
        "    text = file.read()\n",
        "    sentences = text.split(\".\")\n",
        "    for i in range(len(sentences)):\n",
        "        words = sentences[i].split(\" \")\n",
        "        shuffle(words)\n",
        "        sentences[i] = \" \".join(words)\n",
        "    \n",
        "    text = \". \".join(sentences)\n",
        "    with open(\"newRandomSentences.txt\", \"w\", encoding='utf-8') as newFile:\n",
        "        newFile.write(text)\n"
      ]
    },
    {
      "cell_type": "markdown",
      "metadata": {
        "id": "C9WsT9NCD70u"
      },
      "source": [
        "## Задача 3"
      ]
    },
    {
      "cell_type": "markdown",
      "metadata": {
        "id": "FyOsLkCPD71R"
      },
      "source": [
        "В файле расположен русский текст. Откройте этот файл, преобразуйте текст в транслит и запишите в новый файл."
      ]
    },
    {
      "cell_type": "code",
      "execution_count": 48,
      "metadata": {
        "id": "d5qjX7quD71S"
      },
      "outputs": [],
      "source": [
        "# ваш код в этой ячейке\n",
        "translit_dict = {\n",
        "        'а': 'a', 'б': 'b', 'в': 'v', 'г': 'g', 'д': 'd', 'е': 'e', 'ё': 'yo',\n",
        "        'ж': 'zh', 'з': 'z', 'и': 'i', 'й': 'y', 'к': 'k', 'л': 'l', 'м': 'm',\n",
        "        'н': 'n', 'о': 'o', 'п': 'p', 'р': 'r', 'с': 's', 'т': 't', 'у': 'u',\n",
        "        'ф': 'f', 'х': 'kh', 'ц': 'ts', 'ч': 'ch', 'ш': 'sh', 'щ': 'sch',\n",
        "        'ъ': '', 'ы': 'y', 'ь': \"'\", 'э': 'e', 'ю': 'yu', 'я': 'ya',\n",
        "        'А': 'A', 'Б': 'B', 'В': 'V', 'Г': 'G', 'Д': 'D', 'Е': 'E', 'Ё': 'Yo',\n",
        "        'Ж': 'Zh', 'З': 'Z', 'И': 'I', 'Й': 'Y', 'К': 'K', 'Л': 'L', 'М': 'M',\n",
        "        'Н': 'N', 'О': 'O', 'П': 'P', 'Р': 'R', 'С': 'S', 'Т': 'T', 'У': 'U',\n",
        "        'Ф': 'F', 'Х': 'Kh', 'Ц': 'Ts', 'Ч': 'Ch', 'Ш': 'Sh', 'Щ': 'Sch',\n",
        "        'Ъ': '', 'Ы': 'Y', 'Ь': \"'\", 'Э': 'E', 'Ю': 'Yu', 'Я': 'Ya',\n",
        "        ' ': ' ', '.' : '.', ',' : ',', '?' : '?', '!' : '!', '-' : '-'\n",
        "    }\n",
        "\n",
        "with open(\"newRandomSentences.txt\", \"r\", encoding='utf-8') as file:\n",
        "    text = file.read()\n",
        "    translitedText = \"\"\n",
        "    for letter in text:\n",
        "        translitedText += translit_dict[letter]\n",
        "    \n",
        "    with open(\"translitedSentences.txt\", \"w\", encoding='utf-8') as newFile:\n",
        "        newFile.write(translitedText)"
      ]
    },
    {
      "cell_type": "markdown",
      "metadata": {
        "id": "jLz9Lw-7ERLJ"
      },
      "source": [
        "## Задача 4"
      ]
    },
    {
      "cell_type": "markdown",
      "metadata": {
        "id": "eo56U11xERLL"
      },
      "source": [
        "Дан текстовый файл. Получите количество букв в нем (пробелы, знаки препинания и специальные символы не учитываются)."
      ]
    },
    {
      "cell_type": "code",
      "execution_count": 51,
      "metadata": {
        "id": "eyMVLE5rERLL"
      },
      "outputs": [
        {
          "name": "stdout",
          "output_type": "stream",
          "text": [
            "26\n"
          ]
        }
      ],
      "source": [
        "# ваш код в этой ячейке\n",
        "with open(\"translitedSentences.txt\", \"r\", encoding='utf-8') as file:\n",
        "    text = file.read()\n",
        "    letters = ''.join(filter(str.isalpha, text))\n",
        "\n",
        "print(len(letters))"
      ]
    },
    {
      "cell_type": "markdown",
      "metadata": {
        "id": "m4628ffNE0ha"
      },
      "source": [
        "## Задача 5"
      ]
    },
    {
      "cell_type": "markdown",
      "metadata": {
        "id": "372hLl8-E0hb"
      },
      "source": [
        "Дан текстовый файл. Получите количество букв в нем (пробелы, знаки препинания и специальные символы не учитываются)."
      ]
    },
    {
      "cell_type": "code",
      "execution_count": null,
      "metadata": {
        "id": "cQOLrXzAE0hc"
      },
      "outputs": [],
      "source": [
        "# ваш код в этой ячейке\n"
      ]
    },
    {
      "cell_type": "markdown",
      "metadata": {
        "id": "J7eqhUv5JLfO"
      },
      "source": [
        "## Задача 6"
      ]
    },
    {
      "cell_type": "markdown",
      "metadata": {
        "id": "hDfw4rf3JLf1"
      },
      "source": [
        "Напишите программу, которая запрашивает у пользователя два значения. Если хотя бы одно из них не является числом, то программа будет соединять их в одну строку. В остальных случаях, если оба значения являются числами, программа будет суммировать их.\n",
        "\n",
        "Примеры выполнения программы:\n",
        "```\n",
        "Первое значение: 10\n",
        "Второе значение: 50\n",
        "Результат: 60\n",
        "```\n",
        "\n",
        "```\n",
        "Первое значение: hello\n",
        "Второе значение: world\n",
        "Результат: helloworld\n",
        "```\n",
        "\n",
        "\n",
        "\n",
        "\n"
      ]
    },
    {
      "cell_type": "code",
      "execution_count": 23,
      "metadata": {
        "id": "Y7Fhz2upJLf2"
      },
      "outputs": [
        {
          "name": "stdout",
          "output_type": "stream",
          "text": [
            "8\n"
          ]
        }
      ],
      "source": [
        "# ваш код в этой ячейке\n",
        "firstVar = input(\"Первое значение: \")\n",
        "secondVar = input(\"Второе значение: \")\n",
        "\n",
        "if(not(firstVar.isdigit()) or not(secondVar.isdigit())):\n",
        "   print(firstVar + secondVar)\n",
        "else:\n",
        "   print(int(firstVar) + int(secondVar))"
      ]
    }
  ],
  "metadata": {
    "colab": {
      "provenance": []
    },
    "kernelspec": {
      "display_name": "Python 3",
      "name": "python3"
    },
    "language_info": {
      "codemirror_mode": {
        "name": "ipython",
        "version": 3
      },
      "file_extension": ".py",
      "mimetype": "text/x-python",
      "name": "python",
      "nbconvert_exporter": "python",
      "pygments_lexer": "ipython3",
      "version": "3.10.11"
    }
  },
  "nbformat": 4,
  "nbformat_minor": 0
}
