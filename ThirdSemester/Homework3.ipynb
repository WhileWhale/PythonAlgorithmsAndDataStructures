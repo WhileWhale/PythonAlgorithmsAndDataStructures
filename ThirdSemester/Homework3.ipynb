{
 "cells": [
  {
   "cell_type": "markdown",
   "metadata": {},
   "source": [
    "Дан одномерный массив целых чисел размерности n, заданных случайным образом из интервала от 0 до 100. Если количество четных элементов, стоящих на нечетных местах, превышает количество нечетных элементов, стоящих на четных местах, то отсортировать массив по возрастанию, иначе по убыванию. Реализовать алгоритм сортировки слиянием. "
   ]
  },
  {
   "cell_type": "code",
   "execution_count": 54,
   "metadata": {},
   "outputs": [
    {
     "name": "stdout",
     "output_type": "stream",
     "text": [
      "Первоначальный массив: [52, 11, 32, 23, 18, 49, 26, 6, 64, 28, 50]\n",
      "Количество четных элементов: 2\n",
      "Количество нечетных элементов: 0\n",
      "Массив отсортирован по возрастанию: [6, 11, 18, 23, 26, 28, 32, 49, 50, 52, 64]\n"
     ]
    }
   ],
   "source": [
    "def IsNeededToSortAscending(array):\n",
    "    even_count = sum(1 for i in range(1, len(array), 2) if array[i] % 2 == 0)\n",
    "    odd_count = sum(1 for i in range(0, len(array), 2) if array[i] % 2 == 1)\n",
    "    print(f\"Количество четных элементов: {even_count}\\nКоличество нечетных элементов: {odd_count}\")\n",
    "    return even_count > odd_count\n",
    "\n",
    "def MergeSort(array, isAscSort):\n",
    "    if len(array) <= 1:\n",
    "        return array\n",
    "    \n",
    "    mid = int(len(array) / 2)\n",
    "    left_half = MergeSort(array[:mid], isAscSort)\n",
    "    right_half = MergeSort(array[mid:], isAscSort)\n",
    "    \n",
    "    return Merge(left_half, right_half, isAscSort)\n",
    "\n",
    "def Merge(left, right, isAscSort):\n",
    "    merged = []\n",
    "    left_index = 0\n",
    "    right_index = 0\n",
    "    \n",
    "    if isAscSort:\n",
    "        while left_index < len(left) and right_index < len(right):\n",
    "            if left[left_index] < right[right_index]:\n",
    "                merged.append(left[left_index])\n",
    "                left_index += 1\n",
    "            else:\n",
    "                merged.append(right[right_index])\n",
    "                right_index += 1\n",
    "    else:\n",
    "        while left_index < len(left) and right_index < len(right):\n",
    "            if left[left_index] > right[right_index]:\n",
    "                merged.append(left[left_index])\n",
    "                left_index += 1\n",
    "            else:\n",
    "                merged.append(right[right_index])\n",
    "                right_index += 1\n",
    "    \n",
    "    merged.extend(left[left_index:])\n",
    "    merged.extend(right[right_index:])\n",
    "    \n",
    "    return merged\n",
    "\n",
    "import random\n",
    "\n",
    "n = 11\n",
    "\n",
    "array = [random.randint(0, 100) for _ in range(n)]\n",
    "\n",
    "print('Первоначальный массив:', array)\n",
    "\n",
    "isAscSort = IsNeededToSortAscending(array)\n",
    "sorted_array = MergeSort(array, isAscSort)\n",
    "\n",
    "if isAscSort:\n",
    "    print('Массив отсортирован по возрастанию:', sorted_array)\n",
    "\n",
    "else:\n",
    "    print('Массив отсортирован по убыванию:', sorted_array)\n"
   ]
  },
  {
   "cell_type": "markdown",
   "metadata": {},
   "source": [
    "Дан одномерный массив целых чисел размерности n, заданных случайным образом из интервала от -20 до 20. Если в массиве есть отрицательные элементы, то отсортировать массив по возрастанию, иначе - по убыванию. Реализовать сортировку алгоритмом сортировки вставками."
   ]
  },
  {
   "cell_type": "code",
   "execution_count": null,
   "metadata": {},
   "outputs": [
    {
     "name": "stdout",
     "output_type": "stream",
     "text": [
      "Первоначальный массив: [6, 8, 12, -2, 19, 15, 17, -1, 16, 13]\n",
      "Массив отсортирован по возрастанию: [-2, -1, 6, 8, 12, 13, 15, 16, 17, 19]\n"
     ]
    }
   ],
   "source": [
    "def IsNeededToSortAscending(array):\n",
    "    return any(num < 0 for num in array)\n",
    "\n",
    "def InsertionSort(array, isAscSort):\n",
    "    for i in range(1, len(array)):\n",
    "        key = array[i]\n",
    "        j = i - 1\n",
    "        \n",
    "        if isAscSort:\n",
    "            while j >= 0 and array[j] > key:\n",
    "                array[j + 1] = array[j]\n",
    "                j -= 1\n",
    "        else:\n",
    "            while j >= 0 and array[j] < key:\n",
    "                array[j + 1] = array[j]\n",
    "                j -= 1\n",
    "        \n",
    "        array[j + 1] = key\n",
    "    \n",
    "    return array\n",
    "\n",
    "import random\n",
    "\n",
    "n = 10\n",
    "\n",
    "array = [random.randint(-20, 20) for _ in range(n)]\n",
    "\n",
    "print('Первоначальный массив:', array)\n",
    "\n",
    "isAscSort = IsNeededToSortAscending(array)\n",
    "\n",
    "sorted_array = InsertionSort(array, isAscSort)\n",
    "\n",
    "if isAscSort:\n",
    "    print('Массив отсортирован по возрастанию:', sorted_array)\n",
    "else:\n",
    "    print('Массив отсортирован по убыванию:', sorted_array)\n"
   ]
  }
 ],
 "metadata": {
  "kernelspec": {
   "display_name": "Python 3",
   "language": "python",
   "name": "python3"
  },
  "language_info": {
   "codemirror_mode": {
    "name": "ipython",
    "version": 3
   },
   "file_extension": ".py",
   "mimetype": "text/x-python",
   "name": "python",
   "nbconvert_exporter": "python",
   "pygments_lexer": "ipython3",
   "version": "3.10.11"
  }
 },
 "nbformat": 4,
 "nbformat_minor": 2
}
