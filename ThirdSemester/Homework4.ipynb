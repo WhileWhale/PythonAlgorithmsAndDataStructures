{
 "cells": [
  {
   "cell_type": "markdown",
   "metadata": {},
   "source": [
    "Поменять местами первый и последний элементы стека."
   ]
  },
  {
   "cell_type": "code",
   "execution_count": null,
   "metadata": {},
   "outputs": [
    {
     "name": "stdout",
     "output_type": "stream",
     "text": [
      "Stack before swap: [1, 2, 3, 4]\n",
      "Stack after swap: [4, 2, 3, 1]\n"
     ]
    }
   ],
   "source": [
    "def SwapFirstAndLast(stack):\n",
    "    if len(stack) < 2: return stack\n",
    "\n",
    "    first_element = stack.pop(0)\n",
    "    last_element = stack.pop()\n",
    "    \n",
    "    stack.insert(0, last_element)\n",
    "    stack.append(first_element)\n",
    "    \n",
    "    return stack\n",
    "\n",
    "stack = [1, 2, 3, 4]\n",
    "print(f\"Stack before swap: {stack}\")\n",
    "\n",
    "stack = SwapFirstAndLast(stack)\n",
    "print(f\"Stack after swap: {stack}\")\n"
   ]
  },
  {
   "cell_type": "markdown",
   "metadata": {},
   "source": [
    "Удалить элемент, который находится в середине стека, если нечетное число элементов, а если четное, то два средних."
   ]
  },
  {
   "cell_type": "code",
   "execution_count": 9,
   "metadata": {},
   "outputs": [
    {
     "name": "stdout",
     "output_type": "stream",
     "text": [
      "Stack before deletion: [1, 2, 3, 4, 5]\n",
      "Stack after deletion: [1, 2, 4, 5]\n"
     ]
    }
   ],
   "source": [
    "def DeleteMiddleElement(stack):\n",
    "    if len(stack) % 2 == 0:\n",
    "        mid_index = len(stack) // 2\n",
    "        stack.pop(mid_index)\n",
    "        stack.pop(mid_index - 1)\n",
    "    else:\n",
    "        mid_index = len(stack) // 2\n",
    "        stack.pop(mid_index)\n",
    "    \n",
    "    return stack\n",
    "\n",
    "stack = [1, 2, 3, 4, 5]\n",
    "print(f\"Stack before deletion: {stack}\")\n",
    "\n",
    "stack = DeleteMiddleElement(stack)\n",
    "print(f\"Stack after deletion: {stack}\")"
   ]
  },
  {
   "cell_type": "markdown",
   "metadata": {},
   "source": [
    "1. Вставить элемент после n-го элемента списка.\n",
    "\n",
    "2. Добавить элемент в начало списка.\n",
    "\n",
    "3. Соединить два списка."
   ]
  },
  {
   "cell_type": "code",
   "execution_count": 13,
   "metadata": {},
   "outputs": [
    {
     "name": "stdout",
     "output_type": "stream",
     "text": [
      "Лист до манипуляций: [1, 2, 3, 4, 5]\n",
      "Лист после вставки числа 6 после 3-го элемента, добавления 6 в начало, соединения с другим списком: \n",
      "[6, 1, 2, 3, 6, 4, 5, 6, 7, 8, 9]\n"
     ]
    }
   ],
   "source": [
    "def InsertElement(list, element, n):\n",
    "    if n < 0 or n > len(list):\n",
    "        return list\n",
    "    \n",
    "    list.insert(n, element)\n",
    "    return list\n",
    "\n",
    "def AddElementInTheBeginning(list, element):\n",
    "    list.insert(0, element)\n",
    "    return list\n",
    "\n",
    "def MergeLists(list1, list2):\n",
    "    return list1 + list2 \n",
    "\n",
    "list = [1, 2, 3, 4, 5]\n",
    "element = 6\n",
    "index = 3\n",
    "list2 = [6, 7, 8, 9]\n",
    "\n",
    "print(f\"Лист до манипуляций: {list}\")\n",
    "\n",
    "list = InsertElement(list, element, index)\n",
    "list = AddElementInTheBeginning(list, element)\n",
    "list = MergeLists(list, list2)\n",
    "\n",
    "print(f\"Лист после вставки числа {element} после {index}-го элемента, добавления {element} в начало, соединения с другим списком: \\n{list}\")"
   ]
  },
  {
   "cell_type": "markdown",
   "metadata": {},
   "source": [
    "Дан кольцевой список из 20 фамилий студентов.\n",
    "\n",
    "Разбить студентов на 2 группы по 10 человек. Во вторую группу попадает каждый 12-й человек."
   ]
  },
  {
   "cell_type": "code",
   "execution_count": null,
   "metadata": {},
   "outputs": [
    {
     "name": "stdout",
     "output_type": "stream",
     "text": [
      "Группа 1: ['Иванов', 'Петров', 'Сидоров', 'Михайлов', 'Белов', 'Козлов', 'Соловьев', 'Павлов', 'Снегирев', 'Глухарев']\n",
      "\n",
      "Группа 2: ['Семенов', 'Кузнецов', 'Синичкин', 'Лебедев', 'Степанов', 'Булкин', 'Золотaрев', 'Лукин', 'Тихонов', 'Воробьев']\n"
     ]
    }
   ],
   "source": [
    "import itertools\n",
    "\n",
    "def DivideStudents(group):\n",
    "    loop = itertools.cycle(group)\n",
    "    group2 = []\n",
    "    i = 1\n",
    "\n",
    "    while len(group2) < 10:\n",
    "        element = next(loop)\n",
    "        if element in group2:\n",
    "            continue\n",
    "        if i == 12:\n",
    "            group2.append(element)\n",
    "            i = 0\n",
    "        \n",
    "        i += 1\n",
    "    \n",
    "    group = [element for element in group if element not in group2]\n",
    "\n",
    "    return group, group2\n",
    "\n",
    "group = [\"Иванов\", \"Петров\", \"Сидоров\", \"Кузнецов\", \"Степанов\", \"Михайлов\", \"Белов\", \"Козлов\", \"Соловьев\", \"Лебедев\", \"Павлов\", \"Семенов\", \"Тихонов\", \"Лукин\", \"Воробьев\", \"Золотaрев\", \"Синичкин\", \"Снегирев\", \"Глухарев\", \"Булкин\"]\n",
    "\n",
    "group1, group2 = DivideStudents(group)\n",
    "\n",
    "print(f\"Группа 1: {group1}\")\n",
    "\n",
    "print(f\"\\nГруппа 2: {group2}\")"
   ]
  },
  {
   "cell_type": "markdown",
   "metadata": {},
   "source": [
    "Даны 2 кольцевых списка с фамилиями шахматистов 2-х команд. Произвести жеребьевку. В первой команде выбирается каждый n-й игрок, а во второй - каждый k-й."
   ]
  },
  {
   "cell_type": "code",
   "execution_count": 38,
   "metadata": {},
   "outputs": [
    {
     "name": "stdout",
     "output_type": "stream",
     "text": [
      "Пары игроков: (('Участник2', 'Участник4'), ('Участник3', 'Участник6'), ('Участник1', 'Участник5'))\n"
     ]
    }
   ],
   "source": [
    "import itertools\n",
    "\n",
    "def ChooseFromList(list, index):\n",
    "    loop = itertools.cycle(list)\n",
    "    chosen = []\n",
    "    i = 1\n",
    "\n",
    "    while len(chosen) < len(list):\n",
    "        element = next(loop)\n",
    "        if element in chosen:\n",
    "            continue\n",
    "        if i == index:\n",
    "            chosen.append(element)\n",
    "            i = 0\n",
    "        \n",
    "        i += 1\n",
    "    \n",
    "    return chosen\n",
    "\n",
    "def GetChessPairs(firstTeam, secondTeam, n, k):\n",
    "    firstTeamChosen = ChooseFromList(firstTeam, n)\n",
    "    secondTeamChosen = ChooseFromList(secondTeam, k)\n",
    "    pairs = ()\n",
    "\n",
    "    for i in range(len(firstTeamChosen)):\n",
    "        pairs = pairs + ((firstTeamChosen[i], secondTeamChosen[i]),)\n",
    "\n",
    "    return pairs\n",
    "\n",
    "\n",
    "team1 = [\"Участник1\", \"Участник2\", \"Участник3\"]\n",
    "team2 = [\"Участник4\", \"Участник5\", \"Участник6\"]\n",
    "\n",
    "pairs = GetChessPairs(team1, team2, 5, 4)\n",
    "\n",
    "print(f\"Пары игроков: {pairs}\")"
   ]
  }
 ],
 "metadata": {
  "kernelspec": {
   "display_name": "Python 3",
   "language": "python",
   "name": "python3"
  },
  "language_info": {
   "codemirror_mode": {
    "name": "ipython",
    "version": 3
   },
   "file_extension": ".py",
   "mimetype": "text/x-python",
   "name": "python",
   "nbconvert_exporter": "python",
   "pygments_lexer": "ipython3",
   "version": "3.10.11"
  }
 },
 "nbformat": 4,
 "nbformat_minor": 2
}
